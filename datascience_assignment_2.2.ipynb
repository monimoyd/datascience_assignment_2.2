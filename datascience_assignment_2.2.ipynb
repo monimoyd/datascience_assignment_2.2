{
 "cells": [
  {
   "cell_type": "markdown",
   "metadata": {},
   "source": [
    "### Write a program to generate pattern first shows numbers character (*) in acending till 5 stars are reached, next show show of characters(*) in descending  till all are exhausted\n",
    "\n",
    "## Steps:\n",
    "* Write a function display_stars which take as input number num and print num numbers of stars\n",
    "* Write a for loop where i will take values 1 to 4 and call display_stars with i as argument\n",
    "* Write a for loop where i will take values 5 to 1 and call display_stars with i as argument\n",
    "\n"
   ]
  },
  {
   "cell_type": "code",
   "execution_count": 8,
   "metadata": {},
   "outputs": [
    {
     "name": "stdout",
     "output_type": "stream",
     "text": [
      "*\n",
      "**\n",
      "***\n",
      "****\n",
      "*****\n",
      "****\n",
      "***\n",
      "**\n",
      "*\n"
     ]
    }
   ],
   "source": [
    "# Function display_stars as input number num and print num numbers of stars\n",
    "def display_stars(num):\n",
    "    if num <= 0:\n",
    "        return\n",
    "    display_string =\"\"\n",
    "    for j in range(i):\n",
    "        display_string += \"*\"\n",
    "    print(display_string)\n",
    "\n",
    "# For loop which will print character '*' 1 to 4 times    \n",
    "for i in range(1,5):\n",
    "    display_stars(i)\n",
    "    \n",
    "# For loop which will print character '*' 5 to 1 times(descending)    \n",
    "for i in range(5, 0, -1):\n",
    "    display_stars(i)\n",
    "\n"
   ]
  },
  {
   "cell_type": "code",
   "execution_count": null,
   "metadata": {},
   "outputs": [],
   "source": []
  }
 ],
 "metadata": {
  "kernelspec": {
   "display_name": "Python 3",
   "language": "python",
   "name": "python3"
  },
  "language_info": {
   "codemirror_mode": {
    "name": "ipython",
    "version": 3
   },
   "file_extension": ".py",
   "mimetype": "text/x-python",
   "name": "python",
   "nbconvert_exporter": "python",
   "pygments_lexer": "ipython3",
   "version": "3.6.4"
  }
 },
 "nbformat": 4,
 "nbformat_minor": 2
}
